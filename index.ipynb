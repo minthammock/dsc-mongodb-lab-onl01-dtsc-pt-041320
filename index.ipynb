{
 "cells": [
  {
   "cell_type": "markdown",
   "metadata": {},
   "source": [
    "# MongoDB - Lab\n",
    "\n",
    "## Introduction\n",
    "\n",
    "In this lesson, we'll get some hands-on experience with MongoDB!\n",
    "\n",
    "## Objectives\n",
    "You will be able to: \n",
    "\n",
    "- Create a MongoDB database   \n",
    "- Insert data into a MongoDB database   \n",
    "- Read data from a MongoDB database   \n",
    "- Update data in a MongoDB database   \n",
    "\n",
    "## Getting Started\n",
    "\n",
    "To begin this lab, make sure that you start up the mongoDB server in your terminal first! **You must do this lab locally on your computer, not in Learn.**\n",
    "\n",
    "\n",
    "## Connecting to the MongoDB Database\n",
    "\n",
    "In the cell below, import the appropriate library and connect to the mongoDB server. Create a new database called `'lab_db'`."
   ]
  },
  {
   "cell_type": "code",
   "execution_count": 13,
   "metadata": {},
   "outputs": [],
   "source": [
    "import pymongo\n",
    "myClient = pymongo.MongoClient('mongodb://127.0.0.1:27017')\n",
    "myDb = myClient['lab_db']\n",
    "myCollection = myDb['lab_collection']"
   ]
  },
  {
   "cell_type": "markdown",
   "metadata": {},
   "source": [
    "## Creating a Collection\n",
    "\n",
    "Now, create a collection called `'lab_collection'` inside `'lab_db'`."
   ]
  },
  {
   "cell_type": "code",
   "execution_count": 16,
   "metadata": {},
   "outputs": [],
   "source": [
    "allEntries = myCollection.find({})\n",
    "for x in showAll:\n",
    "    print(x)"
   ]
  },
  {
   "cell_type": "markdown",
   "metadata": {},
   "source": [
    "## Adding Some Data\n",
    "\n",
    "Now, we're going to add some example records into our database. In the cells below, create dictionary representations of the following customer records:\n",
    "\n",
    "\n",
    "|     Name     |            Email           |  Mailing_Address  | Balance |                         Notes                         |\n",
    "|:------------:|:--------------------------:|:-----------------:|:-------:|:-----------------------------------------------------:|\n",
    "|  John Smith  |    j.smith@thesmiths.com   | 123 mulberry lane |   0.0   |    Called technical support, issue not yet resolved   |\n",
    "|  Jane Smith  |  jane_smith@thesmiths.com  |         Null          |  25.00  |                   Null                                    |\n",
    "|  Adam Enbar  | adam@theflatironschool.com |    11 Broadway    |  14.99  |           Set up on recurring billing cycle           |\n",
    "| Avi Flombaum |  avi@theflatironschool.com |    11 Broadway    |   0.0   |                   Null                                    |\n",
    "|   Steven S.  |     steven.s@gmail.net     |         Null          |  -20.23 | Refunded for overpayment due to price match guarantee |\n",
    "\n",
    "\n",
    "Your first challenge is to take all of the data in the table above and create the corresponding documents and add then to our mongo database. Note that fields that contain 'Null' should not be included in the document (recall that since mongo is schema-less, each document can be different). \n",
    "\n",
    "Create the documents from the table listed above, and then use `insert_many()` to insert them into the collection."
   ]
  },
  {
   "cell_type": "code",
   "execution_count": 22,
   "metadata": {},
   "outputs": [
    {
     "data": {
      "text/plain": [
       "<pymongo.results.InsertManyResult at 0x2163824aa48>"
      ]
     },
     "execution_count": 22,
     "metadata": {},
     "output_type": "execute_result"
    }
   ],
   "source": [
    "customer_1 = {'Name':'John Smith', 'Email':'j.smith@thesmiths.com', 'Mailing_Address':'123 mulberry lane', 'Balance':0, 'Notes':'Called technical support, issue not yet resolved'}\n",
    "customer_2 = {'Name':'Jane Smith','Email':'jane_smith@thesmiths.com', 'Balance': 25.00}\n",
    "customer_3 = {'Name':'Adam Enbar','Email':'adam@theflatironschool.com','Mailing_Address':'11 Broadway','Balance':14.99, 'Notes':'Set up on recurring billing cycle'}\n",
    "customer_4 = None\n",
    "customer_5 = None\n",
    "\n",
    "all_records = [customer_1, customer_2, customer_3]\n",
    "\n",
    "insertion_results = myCollection.insert_many(all_records)\n",
    "insertion_results"
   ]
  },
  {
   "cell_type": "markdown",
   "metadata": {},
   "source": [
    "Now, access the appropriate attribute from the results object returned from the insertion to see the unique IDs for each record inserted, so that we can confirm each were inserted correctly. "
   ]
  },
  {
   "cell_type": "code",
   "execution_count": 24,
   "metadata": {},
   "outputs": [
    {
     "data": {
      "text/plain": [
       "[ObjectId('5eb9cdbd0b35f1144af71009'),\n",
       " ObjectId('5eb9cdbd0b35f1144af7100a'),\n",
       " ObjectId('5eb9cdbd0b35f1144af7100b')]"
      ]
     },
     "execution_count": 24,
     "metadata": {},
     "output_type": "execute_result"
    }
   ],
   "source": [
    "insertion_results.inserted_ids"
   ]
  },
  {
   "cell_type": "markdown",
   "metadata": {},
   "source": [
    "## Querying and Filtering\n",
    "\n",
    "In the cell below, return the name and email address for every customer record. Then, print every item from the query to show that it worked correctly. "
   ]
  },
  {
   "cell_type": "code",
   "execution_count": 29,
   "metadata": {},
   "outputs": [
    {
     "name": "stdout",
     "output_type": "stream",
     "text": [
      "{'_id': ObjectId('5eb9cdb70b35f1144af71006'), 'Name': 'John Smith', 'Email': 'j.smith@thesmiths.com'}\n",
      "{'_id': ObjectId('5eb9cdb70b35f1144af71007'), 'Name': 'Jane Smith', 'Email': 'jane_smith@thesmiths.com'}\n",
      "{'_id': ObjectId('5eb9cdb70b35f1144af71008'), 'Name': 'Adam Enbar', 'Email': 'adam@theflatironschool.com'}\n",
      "{'_id': ObjectId('5eb9cdbd0b35f1144af71009'), 'Name': 'John Smith', 'Email': 'j.smith@thesmiths.com'}\n",
      "{'_id': ObjectId('5eb9cdbd0b35f1144af7100a'), 'Name': 'Jane Smith', 'Email': 'jane_smith@thesmiths.com'}\n",
      "{'_id': ObjectId('5eb9cdbd0b35f1144af7100b'), 'Name': 'Adam Enbar', 'Email': 'adam@theflatironschool.com'}\n"
     ]
    }
   ],
   "source": [
    "query_1 = myCollection.find({},{'Name':1, 'Email':1})\n",
    "for x in query_1:\n",
    "    print(x)"
   ]
  },
  {
   "cell_type": "markdown",
   "metadata": {},
   "source": [
    "Great! Now, let's write a query that gets an individual record based on a stored key-value pair a document contains. \n",
    "\n",
    "In the cell below, write a query to get the record for `'John Smith'` by using his name. Then, print the results of the query to demonstrate that it worked correctly.  "
   ]
  },
  {
   "cell_type": "code",
   "execution_count": 34,
   "metadata": {},
   "outputs": [
    {
     "name": "stdout",
     "output_type": "stream",
     "text": [
      "{'_id': ObjectId('5eb9cdb70b35f1144af71006'), 'Name': 'John Smith', 'Email': 'j.smith@thesmiths.com', 'Mailing_Address': '123 mulberry lane', 'Balance': 0, 'Notes': 'Called technical support, issue not yet resolved'}\n",
      "{'_id': ObjectId('5eb9cdbd0b35f1144af71009'), 'Name': 'John Smith', 'Email': 'j.smith@thesmiths.com', 'Mailing_Address': '123 mulberry lane', 'Balance': 0, 'Notes': 'Called technical support, issue not yet resolved'}\n"
     ]
    }
   ],
   "source": [
    "query_2 = myCollection.find({'Name':'John Smith'})\n",
    "for x in query_2:\n",
    "    print(x)"
   ]
  },
  {
   "cell_type": "markdown",
   "metadata": {},
   "source": [
    "Great! Now, write a query to get the names, email addresses, and balances for customers that have a balance greater than 0. Use a modifier to do this. \n",
    "\n",
    "**_HINT_**: In the query below, you'll be passing in two separate dictionaries. The first one defines the logic of the query, while the second tells which fields we want returned. "
   ]
  },
  {
   "cell_type": "code",
   "execution_count": 39,
   "metadata": {},
   "outputs": [
    {
     "name": "stdout",
     "output_type": "stream",
     "text": [
      "{'_id': ObjectId('5eb9cdb70b35f1144af71007'), 'Name': 'Jane Smith', 'Email': 'jane_smith@thesmiths.com', 'Balance': 25.0}\n",
      "{'_id': ObjectId('5eb9cdb70b35f1144af71008'), 'Name': 'Adam Enbar', 'Email': 'adam@theflatironschool.com', 'Mailing_Address': '11 Broadway', 'Balance': 14.99, 'Notes': 'Set up on recurring billing cycle'}\n",
      "{'_id': ObjectId('5eb9cdbd0b35f1144af7100a'), 'Name': 'Jane Smith', 'Email': 'jane_smith@thesmiths.com', 'Balance': 25.0}\n",
      "{'_id': ObjectId('5eb9cdbd0b35f1144af7100b'), 'Name': 'Adam Enbar', 'Email': 'adam@theflatironschool.com', 'Mailing_Address': '11 Broadway', 'Balance': 14.99, 'Notes': 'Set up on recurring billing cycle'}\n"
     ]
    }
   ],
   "source": [
    "query_3 = myCollection.find({'Balance':{'$gt':0}})\n",
    "for x in query_3:\n",
    "    print(x)\n"
   ]
  },
  {
   "cell_type": "markdown",
   "metadata": {},
   "source": [
    "## Updating a Record\n",
    "\n",
    "Now, let's update some records. In the cell below. set the mailing address for `'John Smith'` to `'367 55th St., apt 2A'`."
   ]
  },
  {
   "cell_type": "code",
   "execution_count": 65,
   "metadata": {},
   "outputs": [
    {
     "data": {
      "text/plain": [
       "<pymongo.results.UpdateResult at 0x21637bcc5c8>"
      ]
     },
     "execution_count": 65,
     "metadata": {},
     "output_type": "execute_result"
    }
   ],
   "source": [
    "record_to_update_1 = {'Name':'John Smith'}\n",
    "update_1 = {'$set' : {'Mailing_Address':'367 55th st., apt 2A'}}\n",
    "myCollection.update_one(record_to_update_1, update_1)"
   ]
  },
  {
   "cell_type": "markdown",
   "metadata": {},
   "source": [
    "Now, write a query to check that the update worked for this document in the cell below:  "
   ]
  },
  {
   "cell_type": "code",
   "execution_count": 47,
   "metadata": {},
   "outputs": [
    {
     "name": "stdout",
     "output_type": "stream",
     "text": [
      "{'_id': ObjectId('5eb9cdb70b35f1144af71006'), 'Name': 'John Smith', 'Email': 'j.smith@thesmiths.com', 'Mailing_Address': '367 55th st., apt 2A', 'Balance': 0, 'Notes': 'Called technical support, issue not yet resolved'}\n",
      "{'_id': ObjectId('5eb9cdb70b35f1144af71007'), 'Name': 'Jane Smith', 'Email': 'jane_smith@thesmiths.com', 'Balance': 25.0}\n",
      "{'_id': ObjectId('5eb9cdb70b35f1144af71008'), 'Name': 'Adam Enbar', 'Email': 'adam@theflatironschool.com', 'Mailing_Address': '11 Broadway', 'Balance': 14.99, 'Notes': 'Set up on recurring billing cycle'}\n",
      "{'_id': ObjectId('5eb9cdbd0b35f1144af71009'), 'Name': 'John Smith', 'Email': 'j.smith@thesmiths.com', 'Mailing_Address': '123 mulberry lane', 'Balance': 0, 'Notes': 'Called technical support, issue not yet resolved'}\n",
      "{'_id': ObjectId('5eb9cdbd0b35f1144af7100a'), 'Name': 'Jane Smith', 'Email': 'jane_smith@thesmiths.com', 'Balance': 25.0}\n",
      "{'_id': ObjectId('5eb9cdbd0b35f1144af7100b'), 'Name': 'Adam Enbar', 'Email': 'adam@theflatironschool.com', 'Mailing_Address': '11 Broadway', 'Balance': 14.99, 'Notes': 'Set up on recurring billing cycle'}\n"
     ]
    }
   ],
   "source": [
    "query_4 = myCollection.find({})\n",
    "for x in query_4:\n",
    "    print(x)\n",
    "\n"
   ]
  },
  {
   "cell_type": "markdown",
   "metadata": {},
   "source": [
    "Now, let's assume that we want to add birthdays for each customer record. Consider the following table:\n",
    "\n",
    "|     Name     |  Birthday  |\n",
    "|:------------:|:----------:|\n",
    "|  John Smith  | 02/20/1986 |\n",
    "|  Jane Smith  | 07/07/1983 |\n",
    "|  Adam Enbar  | 12/02/1982 |\n",
    "| Avi Flombaum | 04/17/1983 |\n",
    "|   Steven S.  | 08/30/1991 |\n",
    "\n",
    "We want to add birthdays for each person, but we want to do so in a way where we don't have to do the same repetitive task over and over again. This seems like a good opportunity to write a function to handle some of the logic for us!\n",
    "\n",
    "In the cell below:\n",
    "\n",
    "* Store the names in the `names_list` variable as a list.\n",
    "* Store the birthdays in the `birthdays_list` variable as a list.\n",
    "* Write a function that takes in the two different lists, and updates each record by adding in the appropriate key-value pair containing that user's birthday.\n",
    "\n",
    "**_Hint:_** There are several ways that you could write this, depending on whether you want to use the `update_one()` method or the `update_many()` method. See if you can figure out both approaches!"
   ]
  },
  {
   "cell_type": "code",
   "execution_count": 76,
   "metadata": {},
   "outputs": [],
   "source": [
    "\n",
    "names_list = ['John Smith', 'Jane Smith', 'Adam Enbar', 'Avi Flombaum', 'Steven S.']\n",
    "birthdays_list = ['02/20/1986', '07/07/1983', '12/02/0982', '04/17/1983', '08/30/1991']\n",
    "\n",
    "def update_birthdays(names, birthdays):\n",
    "    for i in range(len(names_list)):\n",
    "        name = names_list[i]\n",
    "        birthday = birthdays_list[i]\n",
    "        query = {'Name': name}\n",
    "        update = {'$set': {'Birthday': birthday}}\n",
    "        myCollection.update_one(query, update)\n",
    "        # Alternative method is to create a dictionary for each person, store them all in a list, and then pass that \n",
    "        # list to update_many() at the end of the function. \n",
    "        \n",
    "update_birthdays(names_list, birthdays_list)"
   ]
  },
  {
   "cell_type": "markdown",
   "metadata": {},
   "source": [
    "Now, write a query to check your work and see that the birthdays were added correctly."
   ]
  },
  {
   "cell_type": "code",
   "execution_count": 77,
   "metadata": {},
   "outputs": [
    {
     "name": "stdout",
     "output_type": "stream",
     "text": [
      "{'_id': ObjectId('5eb9cdb70b35f1144af71006'), 'Name': 'John Smith', 'Email': 'j.smith@thesmiths.com', 'Mailing_Address': '367 55th st., apt 2A', 'Balance': 0, 'Notes': 'Called technical support, issue not yet resolved', 'Birthday': '02/20/1986'}\n",
      "{'_id': ObjectId('5eb9cdb70b35f1144af71007'), 'Name': 'Jane Smith', 'Email': 'jane_smith@thesmiths.com', 'Balance': 25.0, 'Birthday': '07/07/1983'}\n",
      "{'_id': ObjectId('5eb9cdb70b35f1144af71008'), 'Name': 'Adam Enbar', 'Email': 'adam@theflatironschool.com', 'Mailing_Address': '11 Broadway', 'Balance': 14.99, 'Notes': 'Set up on recurring billing cycle', 'Birthday': '12/02/0982'}\n",
      "{'_id': ObjectId('5eb9cdbd0b35f1144af71009'), 'Name': 'John Smith', 'Email': 'j.smith@thesmiths.com', 'Mailing_Address': '123 mulberry lane', 'Balance': 0, 'Notes': 'Called technical support, issue not yet resolved', 'Birthday': 6}\n",
      "{'_id': ObjectId('5eb9cdbd0b35f1144af7100a'), 'Name': 'Jane Smith', 'Email': 'jane_smith@thesmiths.com', 'Balance': 25.0}\n",
      "{'_id': ObjectId('5eb9cdbd0b35f1144af7100b'), 'Name': 'Adam Enbar', 'Email': 'adam@theflatironschool.com', 'Mailing_Address': '11 Broadway', 'Balance': 14.99, 'Notes': 'Set up on recurring billing cycle'}\n"
     ]
    }
   ],
   "source": [
    "query4 = myCollection.find({})\n",
    "for x in query4:\n",
    "    print(x)"
   ]
  },
  {
   "cell_type": "markdown",
   "metadata": {},
   "source": [
    "Great! It looks like the birthdays have been successfully added to every record correctly!\n",
    "\n",
    "## Summary\n",
    "\n",
    "In this lesson, we got some hands-on practice working with MongoDB!"
   ]
  }
 ],
 "metadata": {
  "kernelspec": {
   "display_name": "Python 3",
   "language": "python",
   "name": "python3"
  },
  "language_info": {
   "codemirror_mode": {
    "name": "ipython",
    "version": 3
   },
   "file_extension": ".py",
   "mimetype": "text/x-python",
   "name": "python",
   "nbconvert_exporter": "python",
   "pygments_lexer": "ipython3",
   "version": "3.7.6"
  }
 },
 "nbformat": 4,
 "nbformat_minor": 2
}
